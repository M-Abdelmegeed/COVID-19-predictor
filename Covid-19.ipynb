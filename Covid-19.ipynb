{
 "cells": [
  {
   "cell_type": "markdown",
   "id": "025b3bf9",
   "metadata": {},
   "source": [
    "# <font color='blue'>Covid 19 Prediction </font>\n",
    "### <font color='#739CFF'>CSE381 Final Project </font>\n",
    "<b>Author:</b> Mohammed Ahmed Abdelmegeed 19P1298"
   ]
  },
  {
   "cell_type": "code",
   "execution_count": null,
   "id": "0306b890",
   "metadata": {},
   "outputs": [],
   "source": []
  }
 ],
 "metadata": {
  "kernelspec": {
   "display_name": "Python 3 (ipykernel)",
   "language": "python",
   "name": "python3"
  },
  "language_info": {
   "codemirror_mode": {
    "name": "ipython",
    "version": 3
   },
   "file_extension": ".py",
   "mimetype": "text/x-python",
   "name": "python",
   "nbconvert_exporter": "python",
   "pygments_lexer": "ipython3",
   "version": "3.9.6"
  }
 },
 "nbformat": 4,
 "nbformat_minor": 5
}
